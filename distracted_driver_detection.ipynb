{
 "cells": [
  {
   "cell_type": "code",
   "execution_count": 1,
   "id": "dfa577d4",
   "metadata": {},
   "outputs": [],
   "source": [
    "import zipfile\n",
    "local_zip = r'D:\\imgs.zip'\n",
    "zip_ref = zipfile.ZipFile(local_zip, 'r')\n",
    "zip_ref.extractall(r'D:\\distracted_driver_detection')\n",
    "zip_ref.close()"
   ]
  },
  {
   "cell_type": "code",
   "execution_count": 2,
   "id": "9bf49b91",
   "metadata": {},
   "outputs": [],
   "source": [
    "import os\n",
    "from PIL import Image\n",
    "\n",
    "dataset_dir = r'D:\\distracted_driver_detection\\train'\n",
    "for filenames in os.listdir(dataset_dir):\n",
    "    dataset = os.path.join(dataset_dir,filenames)\n",
    "    for filename in os.listdir(dataset):\n",
    "        file_path = os.path.join(dataset, filename)\n",
    "        if filename.endswith(\".jpg\") or filename.endswith(\".jpeg\"):\n",
    "            try:\n",
    "                with Image.open(file_path) as img:\n",
    "                    pass\n",
    "            except Exception as e:\n",
    "                print(f\"Error opening {filename}: {e}\")\n"
   ]
  },
  {
   "cell_type": "code",
   "execution_count": 3,
   "id": "9b3258a9",
   "metadata": {},
   "outputs": [
    {
     "name": "stdout",
     "output_type": "stream",
     "text": [
      "WARNING:tensorflow:From C:\\Users\\VICTUS\\anaconda3\\lib\\site-packages\\keras\\src\\losses.py:2976: The name tf.losses.sparse_softmax_cross_entropy is deprecated. Please use tf.compat.v1.losses.sparse_softmax_cross_entropy instead.\n",
      "\n"
     ]
    }
   ],
   "source": [
    "from keras.preprocessing.image import ImageDataGenerator\n",
    "import matplotlib.pyplot as plt"
   ]
  },
  {
   "cell_type": "code",
   "execution_count": 4,
   "id": "409b2cc9",
   "metadata": {},
   "outputs": [],
   "source": [
    "train_datagen = ImageDataGenerator(rescale=1/255)"
   ]
  },
  {
   "cell_type": "code",
   "execution_count": 5,
   "id": "47f0cdde",
   "metadata": {},
   "outputs": [
    {
     "name": "stdout",
     "output_type": "stream",
     "text": [
      "Found 22424 images belonging to 10 classes.\n"
     ]
    }
   ],
   "source": [
    "train_datagen = ImageDataGenerator(rescale=1/255,)\n",
    "train_generator = train_datagen.flow_from_directory(\n",
    "    r'D:\\distracted_driver_detection\\train',\n",
    "    target_size=(100, 100), \n",
    "    class_mode='categorical', \n",
    "    subset='training'\n",
    ")"
   ]
  },
  {
   "cell_type": "code",
   "execution_count": 6,
   "id": "51aea30b",
   "metadata": {},
   "outputs": [
    {
     "data": {
      "text/plain": [
       "<BarContainer object of 10 artists>"
      ]
     },
     "execution_count": 6,
     "metadata": {},
     "output_type": "execute_result"
    },
    {
     "data": {
      "image/png": "[encoded data removed]",
      "text/plain": [
       "<Figure size 640x480 with 1 Axes>"
      ]
     },
     "metadata": {},
     "output_type": "display_data"
    }
   ],
   "source": [
    "dataset_dir = r'D:\\distracted_driver_detection\\train'\n",
    "pic_num = []\n",
    "x = ['c0','c1','c2','c3','c4','c5','c6','c7','c8','c9']\n",
    "for filenames in os.listdir(dataset_dir):\n",
    "    dataset = os.path.join(dataset_dir,filenames)\n",
    "    files = os.listdir(dataset)\n",
    "    pic_num.append(len(files))\n",
    "plt.bar(x,pic_num)"
   ]
  },
  {
   "cell_type": "code",
   "execution_count": 7,
   "id": "15fcb706",
   "metadata": {},
   "outputs": [],
   "source": [
    "import tensorflow as tf\n",
    "from keras.models import Sequential\n",
    "from keras.layers import Conv2D,MaxPooling2D,Dropout,Flatten,Dense"
   ]
  },
  {
   "cell_type": "code",
   "execution_count": 8,
   "id": "1e5cb4d7",
   "metadata": {},
   "outputs": [],
   "source": [
    "def create_model_v1():\n",
    "    # Vanilla CNN model\n",
    "    model = Sequential()\n",
    "\n",
    "    model.add(Conv2D(filters = 64, kernel_size = 3, padding='same', activation = 'relu', input_shape=(100,100, 3)))\n",
    "    model.add(MaxPooling2D(pool_size = 2))\n",
    "\n",
    "    model.add(Conv2D(filters = 128, padding='same', kernel_size = 3, activation = 'relu'))\n",
    "    model.add(MaxPooling2D(pool_size = 2))\n",
    "\n",
    "    model.add(Conv2D(filters = 256, padding='same', kernel_size = 3, activation = 'relu'))\n",
    "    model.add(MaxPooling2D(pool_size = 2))\n",
    "\n",
    "    model.add(Conv2D(filters = 512, padding='same', kernel_size = 3, activation = 'relu'))\n",
    "    model.add(MaxPooling2D(pool_size = 2))\n",
    "\n",
    "    model.add(Dropout(0.5))\n",
    "\n",
    "    model.add(Flatten())\n",
    "\n",
    "    model.add(Dense(500, activation = 'relu'))\n",
    "    model.add(Dropout(0.5))\n",
    "    model.add(Dense(10, activation = 'softmax'))\n",
    "    \n",
    "    return model"
   ]
  },
  {
   "cell_type": "code",
   "execution_count": 9,
   "id": "41edb72c",
   "metadata": {},
   "outputs": [
    {
     "name": "stdout",
     "output_type": "stream",
     "text": [
      "WARNING:tensorflow:From C:\\Users\\VICTUS\\anaconda3\\lib\\site-packages\\keras\\src\\backend.py:873: The name tf.get_default_graph is deprecated. Please use tf.compat.v1.get_default_graph instead.\n",
      "\n",
      "WARNING:tensorflow:From C:\\Users\\VICTUS\\anaconda3\\lib\\site-packages\\keras\\src\\layers\\pooling\\max_pooling2d.py:161: The name tf.nn.max_pool is deprecated. Please use tf.nn.max_pool2d instead.\n",
      "\n",
      "WARNING:tensorflow:From C:\\Users\\VICTUS\\anaconda3\\lib\\site-packages\\keras\\src\\optimizers\\__init__.py:309: The name tf.train.Optimizer is deprecated. Please use tf.compat.v1.train.Optimizer instead.\n",
      "\n"
     ]
    }
   ],
   "source": [
    "model_v1 = create_model_v1()\n",
    "model_v1.compile(optimizer='rmsprop', loss='categorical_crossentropy', metrics=['accuracy'])"
   ]
  },
  {
   "cell_type": "code",
   "execution_count": 10,
   "id": "68a161ef",
   "metadata": {},
   "outputs": [],
   "source": [
    "from tensorflow.keras.callbacks import EarlyStopping\n",
    "es = EarlyStopping(monitor='val_loss', mode='min', verbose=1, patience=2)"
   ]
  },
  {
   "cell_type": "code",
   "execution_count": 11,
   "id": "057a5bed",
   "metadata": {},
   "outputs": [
    {
     "name": "stdout",
     "output_type": "stream",
     "text": [
      "Epoch 1/10\n",
      "WARNING:tensorflow:From C:\\Users\\VICTUS\\anaconda3\\lib\\site-packages\\keras\\src\\utils\\tf_utils.py:492: The name tf.ragged.RaggedTensorValue is deprecated. Please use tf.compat.v1.ragged.RaggedTensorValue instead.\n",
      "\n",
      "WARNING:tensorflow:From C:\\Users\\VICTUS\\anaconda3\\lib\\site-packages\\keras\\src\\engine\\base_layer_utils.py:384: The name tf.executing_eagerly_outside_functions is deprecated. Please use tf.compat.v1.executing_eagerly_outside_functions instead.\n",
      "\n",
      "701/701 [==============================] - ETA: 0s - loss: 1.0368 - accuracy: 0.6323 WARNING:tensorflow:Early stopping conditioned on metric `val_loss` which is not available. Available metrics are: loss,accuracy\n",
      "701/701 [==============================] - 7545s 11s/step - loss: 1.0368 - accuracy: 0.6323\n",
      "Epoch 2/10\n",
      "701/701 [==============================] - ETA: 0s - loss: 0.1667 - accuracy: 0.9518WARNING:tensorflow:Early stopping conditioned on metric `val_loss` which is not available. Available metrics are: loss,accuracy\n",
      "701/701 [==============================] - 1875s 3s/step - loss: 0.1667 - accuracy: 0.9518\n",
      "Epoch 3/10\n",
      "701/701 [==============================] - ETA: 0s - loss: 0.0970 - accuracy: 0.9734WARNING:tensorflow:Early stopping conditioned on metric `val_loss` which is not available. Available metrics are: loss,accuracy\n",
      "701/701 [==============================] - 440s 627ms/step - loss: 0.0970 - accuracy: 0.9734\n",
      "Epoch 4/10\n",
      "701/701 [==============================] - ETA: 0s - loss: 0.0717 - accuracy: 0.9800WARNING:tensorflow:Early stopping conditioned on metric `val_loss` which is not available. Available metrics are: loss,accuracy\n",
      "701/701 [==============================] - 407s 580ms/step - loss: 0.0717 - accuracy: 0.9800\n",
      "Epoch 5/10\n",
      "701/701 [==============================] - ETA: 0s - loss: 0.0594 - accuracy: 0.9850WARNING:tensorflow:Early stopping conditioned on metric `val_loss` which is not available. Available metrics are: loss,accuracy\n",
      "701/701 [==============================] - 354s 505ms/step - loss: 0.0594 - accuracy: 0.9850\n",
      "Epoch 6/10\n",
      "701/701 [==============================] - ETA: 0s - loss: 0.0606 - accuracy: 0.9842WARNING:tensorflow:Early stopping conditioned on metric `val_loss` which is not available. Available metrics are: loss,accuracy\n",
      "701/701 [==============================] - 373s 533ms/step - loss: 0.0606 - accuracy: 0.9842\n",
      "Epoch 7/10\n",
      "701/701 [==============================] - ETA: 0s - loss: 0.0564 - accuracy: 0.9876WARNING:tensorflow:Early stopping conditioned on metric `val_loss` which is not available. Available metrics are: loss,accuracy\n",
      "701/701 [==============================] - 384s 547ms/step - loss: 0.0564 - accuracy: 0.9876\n",
      "Epoch 8/10\n",
      "701/701 [==============================] - ETA: 0s - loss: 0.0511 - accuracy: 0.9885WARNING:tensorflow:Early stopping conditioned on metric `val_loss` which is not available. Available metrics are: loss,accuracy\n",
      "701/701 [==============================] - 407s 580ms/step - loss: 0.0511 - accuracy: 0.9885\n",
      "Epoch 9/10\n",
      "701/701 [==============================] - ETA: 0s - loss: 0.0557 - accuracy: 0.9879WARNING:tensorflow:Early stopping conditioned on metric `val_loss` which is not available. Available metrics are: loss,accuracy\n",
      "701/701 [==============================] - 394s 562ms/step - loss: 0.0557 - accuracy: 0.9879\n",
      "Epoch 10/10\n",
      "701/701 [==============================] - ETA: 0s - loss: 0.0495 - accuracy: 0.9892WARNING:tensorflow:Early stopping conditioned on metric `val_loss` which is not available. Available metrics are: loss,accuracy\n",
      "701/701 [==============================] - 375s 534ms/step - loss: 0.0495 - accuracy: 0.9892\n"
     ]
    },
    {
     "data": {
      "text/plain": [
       "<keras.src.callbacks.History at 0x17c480cd3c0>"
      ]
     },
     "execution_count": 11,
     "metadata": {},
     "output_type": "execute_result"
    }
   ],
   "source": [
    "model_v1.fit(train_generator,epochs=10,\n",
    "                 callbacks=[es],\n",
    "                 verbose=1)"
   ]
  },
  {
   "cell_type": "code",
   "execution_count": 14,
   "id": "70fe241f",
   "metadata": {},
   "outputs": [
    {
     "name": "stdout",
     "output_type": "stream",
     "text": [
      "Found 79726 images belonging to 1 classes.\n"
     ]
    }
   ],
   "source": [
    "test_datagen = ImageDataGenerator(rescale=1/255,)\n",
    "test_generator = test_datagen.flow_from_directory(\n",
    "    r'D:\\distracted_driver_detection\\test1',\n",
    "    target_size=(100, 100), \n",
    "    class_mode='categorical', \n",
    "    subset='training'\n",
    ")"
   ]
  },
  {
   "cell_type": "code",
   "execution_count": null,
   "id": "32162631",
   "metadata": {},
   "outputs": [],
   "source": [
    "predict = model_v1.predict(test_generator)\n",
    "predictions = predict.argmax(axis=1)  # Convert softmax probabilities to class labels\n",
    "\n",
    "# Write predictions to CSV file\n",
    "csv_file = 'predictions.csv'\n",
    "with open(csv_file, 'w', newline='') as file:\n",
    "    writer = csv.writer(file)\n",
    "    writer.writerow(['Image', 'Predicted Class'])\n",
    "    for i, prediction in enumerate(predictions):\n",
    "        writer.writerow([f'image_{i}', prediction])"
   ]
  },
  {
   "cell_type": "code",
   "execution_count": 4,
   "id": "90ce2eb0",
   "metadata": {},
   "outputs": [],
   "source": [
    "import pandas as pd\n",
    "import numpy as np\n",
    "import matplotlib.pyplot as plt\n",
    "data = pd.read_csv('predict.csv')\n",
    "label = data['Predicted Class']\n",
    "count = label.value_counts()"
   ]
  },
  {
   "cell_type": "code",
   "execution_count": 5,
   "id": "9f57d1b7",
   "metadata": {},
   "outputs": [
    {
     "data": {
      "text/plain": [
       "<BarContainer object of 10 artists>"
      ]
     },
     "execution_count": 5,
     "metadata": {},
     "output_type": "execute_result"
    },
    {
     "data": {
      "image/png": "[encoded data removed]",
      "text/plain": [
       "<Figure size 640x480 with 1 Axes>"
      ]
     },
     "metadata": {},
     "output_type": "display_data"
    }
   ],
   "source": [
    "a = np.array(count.values)\n",
    "b = np.array(count.keys())\n",
    "plt.bar(b,a)"
   ]
  },
  {
   "cell_type": "code",
   "execution_count": null,
   "id": "d9c16596",
   "metadata": {},
   "outputs": [],
   "source": []
  }
 ],
 "metadata": {
  "kernelspec": {
   "display_name": "Python 3 (ipykernel)",
   "language": "python",
   "name": "python3"
  },
  "language_info": {
   "codemirror_mode": {
    "name": "ipython",
    "version": 3
   },
   "file_extension": ".py",
   "mimetype": "text/x-python",
   "name": "python",
   "nbconvert_exporter": "python",
   "pygments_lexer": "ipython3",
   "version": "3.10.9"
  }
 },
 "nbformat": 4,
 "nbformat_minor": 5
}
